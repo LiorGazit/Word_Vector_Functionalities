{
 "cells": [
  {
   "cell_type": "markdown",
   "metadata": {},
   "source": [
    "# (let the bot generate this desc)"
   ]
  },
  {
   "cell_type": "markdown",
   "metadata": {},
   "source": [
    "Imports:"
   ]
  },
  {
   "cell_type": "code",
   "execution_count": 1,
   "metadata": {},
   "outputs": [],
   "source": [
    "try:\n",
    "    import sys\n",
    "    import requests\n",
    "    from zipfile import ZipFile\n",
    "    from tqdm import tqdm\n",
    "    import numpy as np\n",
    "    import matplotlib.pyplot as plt\n",
    "    from sklearn.decomposition import PCA\n",
    "    from gensim.test.utils import datapath, get_tmpfile\n",
    "    from gensim.models import KeyedVectors\n",
    "    from gensim.scripts.glove2word2vec import glove2word2vec\n",
    "    import os\n",
    "\n",
    "except ImportError:\n",
    "    sys.exit(\"\"\"You are missing necessary Python libraries!\n",
    "    Run the installation chunck.\"\"\")\n",
    "\n",
    "import warnings; warnings.simplefilter('ignore')\n",
    "\n",
    "plt.style.use('ggplot')"
   ]
  },
  {
   "cell_type": "markdown",
   "metadata": {},
   "source": [
    "**Installation chunk** (uncomment necessary commands)"
   ]
  },
  {
   "cell_type": "code",
   "execution_count": null,
   "metadata": {},
   "outputs": [],
   "source": [
    "# %pip install numpy\n",
    "# %pip install matplotlib\n",
    "# %pip install sklearn\n",
    "# %pip install gensim\n",
    "# %pip install requests\n",
    "# %pip install zipfile"
   ]
  },
  {
   "cell_type": "markdown",
   "metadata": {},
   "source": [
    "**Load the necessary files** (it'll download if necessary)"
   ]
  },
  {
   "cell_type": "markdown",
   "metadata": {},
   "source": [
    "(for future commits: see if line `word_vectors = api.load(\"glove-wiki-gigaword-100\")` from [here](https://radimrehurek.com/gensim/models/keyedvectors.html) does a better job for both this NB and maybe a Colab NB as well)"
   ]
  },
  {
   "cell_type": "code",
   "execution_count": 2,
   "metadata": {},
   "outputs": [
    {
     "name": "stdout",
     "output_type": "stream",
     "text": [
      "Successfully located necessary glove file.\n"
     ]
    }
   ],
   "source": [
    "# This function downloads a file from \"url\" and presents a progress bar:\n",
    "def download_file(url, glove_file):\n",
    "    r = requests.get(url, stream=True, allow_redirects=True)\n",
    "    total_size = int(r.headers.get('content-length'))\n",
    "    initial_pos = 0\n",
    "    with open(glove_file,'wb') as f: \n",
    "        with tqdm(total=total_size,\n",
    "                  unit='B',\n",
    "                  unit_scale=True,                      \n",
    "                  desc=glove_file,initial=initial_pos, ascii=True) as pbar:\n",
    "          for ch in r.iter_content(chunk_size=1024):                             \n",
    "                  if ch:\n",
    "                      f.write(ch) \n",
    "                      pbar.update(len(ch))\n",
    "\n",
    "# Setting up paths:\n",
    "folder_for_glove = os.getcwd() + os.sep + 'glove' + os.sep\n",
    "glove_file = datapath(folder_for_glove + 'glove.6B.100d.txt')\n",
    "url_for_zip = \"https://nlp.stanford.edu/data/glove.6B.zip\"\n",
    "zip_file = datapath(folder_for_glove + url_for_zip.split('/')[-1])\n",
    "\n",
    "# Check whether glove file exists in the envorironment, if not, download it:\n",
    "does_glove_file_exist = os.path.exists(glove_file)\n",
    "if does_glove_file_exist == False:\n",
    "    # This means we'll need to download the zipped files and unzip them to the necessary folder:\n",
    "    # Check folder exists:\n",
    "    does_glove_folder_exist = os.path.exists(folder_for_glove)\n",
    "    if does_glove_folder_exist == False:\n",
    "        # Create a folder for glove:\n",
    "        os.mkdir(folder_for_glove)\n",
    "                 \n",
    "    # Download zipped files:\n",
    "    print(\"Downloading the zip file from:   \" + url_for_zip)\n",
    "    zip_file0 = download_file(url_for_zip, zip_file)\n",
    "\n",
    "    # Extract files:\n",
    "    with ZipFile(zip_file, 'r') as zipObj:\n",
    "        print(\"Extracting glove files from the zipped file.\")\n",
    "        zipObj.extractall(folder_for_glove)\n",
    "        print(\"Done extracting.\")\n",
    "else:\n",
    "    print(\"Successfully located necessary glove file.\")\n",
    "        "
   ]
  },
  {
   "cell_type": "markdown",
   "metadata": {},
   "source": [
    "**Load necessary word embeddings**"
   ]
  },
  {
   "cell_type": "code",
   "execution_count": 3,
   "metadata": {},
   "outputs": [
    {
     "data": {
      "text/plain": [
       "(400000, 100)"
      ]
     },
     "execution_count": 3,
     "metadata": {},
     "output_type": "execute_result"
    }
   ],
   "source": [
    "word2vec_glove_file = get_tmpfile(\"glove.6B.100d.word2vec.txt\")\n",
    "glove2word2vec(glove_file, word2vec_glove_file)"
   ]
  },
  {
   "cell_type": "markdown",
   "metadata": {},
   "source": [
    "### Similarity search with GLOVE word embedding"
   ]
  },
  {
   "cell_type": "code",
   "execution_count": null,
   "metadata": {},
   "outputs": [
    {
     "name": "stdout",
     "output_type": "stream",
     "text": [
      "Analogy with ['c++'] as positive:\n",
      "compiler        (score: 0.7527)\n",
      "fortran         (score: 0.7298)\n",
      "compilers       (score: 0.7107)\n",
      "javascript      (score: 0.6958)\n",
      "objective-c     (score: 0.6713)\n",
      "\n",
      "Analogy with 'linkedin':\n",
      "friendster      (score: 0.7622)\n",
      "myspace         (score: 0.7512)\n",
      "myspace.com     (score: 0.7366)\n",
      "facebook        (score: 0.7189)\n",
      "pinterest       (score: 0.7188)\n"
     ]
    }
   ],
   "source": [
    "# Load pre-trained embeddings (make sure you have a compatible file)\n",
    "model = KeyedVectors.load_word2vec_format(word2vec_glove_file, binary=False)\n",
    "\n",
    "def analogy(positive, negative=None, topn=5):\n",
    "    negative = negative or []\n",
    "    result = model.most_similar(positive=positive, negative=negative, topn=topn)\n",
    "    for word, score in result:\n",
    "        print(f\"{word:15s} (score: {score:.4f})\")\n",
    "\n",
    "# Example usage:\n",
    "print(\"Analogy with ['c++'] as positive:\")\n",
    "analogy(positive=['c++'])\n",
    "print(\"\\nAnalogy with 'linkedin':\")\n",
    "analogy(positive=['linkedin'])\n"
   ]
  },
  {
   "cell_type": "markdown",
   "metadata": {},
   "source": []
  },
  {
   "cell_type": "code",
   "execution_count": 9,
   "metadata": {},
   "outputs": [
    {
     "data": {
      "image/png": "[encoded data removed]",
      "text/plain": [
       "<Figure size 1200x1200 with 1 Axes>"
      ]
     },
     "metadata": {},
     "output_type": "display_data"
    }
   ],
   "source": [
    "# import matplotlib.pyplot as plt\n",
    "# import numpy as np\n",
    "# from sklearn.decomposition import PCA\n",
    "\n",
    "def display_pca_scatterplot(model, words=None, sample=0):\n",
    "    # Get words: either provided, sampled, or all from the vocabulary.\n",
    "    if words is None:\n",
    "        if sample > 0:\n",
    "            words = np.random.choice(list(model.vocab.keys()), sample)\n",
    "        else:\n",
    "            words = list(model.vocab.keys())\n",
    "            \n",
    "    vectors = np.array([model[w] for w in words])\n",
    "    twodim = PCA(n_components=2).fit_transform(vectors)\n",
    "    \n",
    "    plt.figure(figsize=(12,12))\n",
    "    plt.scatter(twodim[:,0], twodim[:,1], edgecolors='k', c='r')\n",
    "    for word, (x, y) in zip(words, twodim):\n",
    "        plt.text(x+0.05, y+0.05, word, fontsize=9)\n",
    "    plt.title(\"PCA Visualization of Word Embeddings\")\n",
    "    plt.show()\n",
    "\n",
    "# Example call:\n",
    "display_pca_scatterplot(model, \n",
    "                        words=['metallica', 'megadeth', 'pantera', 'slayer',\n",
    "                               'madonna', 'cher', 'nwa', 'prince'])\n"
   ]
  },
  {
   "cell_type": "code",
   "execution_count": null,
   "metadata": {},
   "outputs": [],
   "source": []
  }
 ],
 "metadata": {
  "kernelspec": {
   "display_name": "Python 3",
   "language": "python",
   "name": "python3"
  },
  "language_info": {
   "codemirror_mode": {
    "name": "ipython",
    "version": 3
   },
   "file_extension": ".py",
   "mimetype": "text/x-python",
   "name": "python",
   "nbconvert_exporter": "python",
   "pygments_lexer": "ipython3",
   "version": "3.11.4"
  }
 },
 "nbformat": 4,
 "nbformat_minor": 2
}
