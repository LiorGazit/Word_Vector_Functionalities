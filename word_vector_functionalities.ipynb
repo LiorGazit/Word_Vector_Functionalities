{
 "cells": [
  {
   "cell_type": "markdown",
   "metadata": {
    "colab_type": "text",
    "id": "hx4OdJFwGdv5"
   },
   "source": [
    "# Word Vector Functionalities Using GENSIM"
   ]
  },
  {
   "cell_type": "markdown",
   "metadata": {},
   "source": [
    "**Some Background**  \n",
    "When applying mathmatical models to free text, the purpose is typically deriving calculated conclusions such as:   \n",
    "- Classifying the text as belonging to some category out of a set of given categories  \n",
    "- Extracting key terms of some nature, ofter Names Entity Recognition  \n",
    "- Extracting information from the text, sometime as an application of Question & Answering\n",
    "- Summerizing the text  \n",
    "- Translating the text  \n",
    "- Deriving what the text communicates, often the sentiment of the writer  \n",
    "- Etc.  \n",
    "\n",
    "The expertise of the developer is in looking to optimize the process so to maximize the results.  \n",
    "In order to do so there are several actions the developer can take:  \n",
    "1. Improve the model  \n",
    "2. Improve the data used for training the model    \n",
    "3. Preprocess the data before appying it to train the model so to reduce the variability the model must train with  \n",
    "4. Improve computation resources (more memory and faster computation)  \n",
    "\n",
    "I'd like to stress the 3rd action.  \n",
    "Preprocessing text can be applied so to reduce its variability which translates to dimensionality reduction of the feature space the model needs to train with.  \n",
    "Another value that can be achieved through preprocessing is feature engineering that lends itself to a mathemtical relationship that mimics the preceptual relationship of the words it represents.  \n",
    "\n",
    "That is the theme behin **word vectors**.  "
   ]
  },
  {
   "cell_type": "markdown",
   "metadata": {},
   "source": [
    "## Preliminary Steps: Import, Install, and Load Files"
   ]
  },
  {
   "cell_type": "markdown",
   "metadata": {},
   "source": [
    "**Import packages**"
   ]
  },
  {
   "cell_type": "code",
   "execution_count": 1,
   "metadata": {
    "colab": {},
    "colab_type": "code",
    "id": "9zg0ErcXGdv7"
   },
   "outputs": [],
   "source": [
    "try:\n",
    "    import requests\n",
    "    from zipfile import ZipFile\n",
    "    from tqdm import tqdm\n",
    "    import numpy as np\n",
    "    import matplotlib.pyplot as plt\n",
    "    from sklearn.decomposition import PCA\n",
    "    from gensim.test.utils import datapath, get_tmpfile\n",
    "    from gensim.models import KeyedVectors\n",
    "    from gensim.scripts.glove2word2vec import glove2word2vec\n",
    "    import os\n",
    "\n",
    "except ImportError:\n",
    "    sys.exit(\"\"\"You are missing necessary Python libraries!\n",
    "    Run the installation chunck.\"\"\")\n",
    "\n",
    "import warnings; warnings.simplefilter('ignore')\n",
    "\n",
    "plt.style.use('ggplot')"
   ]
  },
  {
   "cell_type": "markdown",
   "metadata": {},
   "source": [
    "**Installation chunk** (uncomment necessary commands)"
   ]
  },
  {
   "cell_type": "code",
   "execution_count": 2,
   "metadata": {},
   "outputs": [],
   "source": [
    "# !pip install numpy\n",
    "# !pip install matplotlib\n",
    "# !pip install sklearn\n",
    "# !pip install gensim\n",
    "# !pip install requests\n",
    "# !pip install zipfile"
   ]
  },
  {
   "cell_type": "markdown",
   "metadata": {},
   "source": [
    "**Load the necessary files** (it'll download if necessary)"
   ]
  },
  {
   "cell_type": "markdown",
   "metadata": {},
   "source": [
    "(for future commits: see if line `word_vectors = api.load(\"glove-wiki-gigaword-100\")` from [here](https://radimrehurek.com/gensim/models/keyedvectors.html) does a better job for both this NB and maybe a Colab NB as well)"
   ]
  },
  {
   "cell_type": "code",
   "execution_count": 3,
   "metadata": {
    "scrolled": true
   },
   "outputs": [
    {
     "name": "stdout",
     "output_type": "stream",
     "text": [
      "Successfully located necessary glove file.\n"
     ]
    }
   ],
   "source": [
    "# This function downloads a file from \"url\" and presents a progress bar:\n",
    "def download_file(url, glove_file):\n",
    "    r = requests.get(url, stream=True, allow_redirects=True)\n",
    "    total_size = int(r.headers.get('content-length'))\n",
    "    initial_pos = 0\n",
    "    with open(glove_file,'wb') as f: \n",
    "        with tqdm(total=total_size,\n",
    "                  unit='B',\n",
    "                  unit_scale=True,                      \n",
    "                  desc=glove_file,initial=initial_pos, ascii=True) as pbar:\n",
    "          for ch in r.iter_content(chunk_size=1024):                             \n",
    "                  if ch:\n",
    "                      f.write(ch) \n",
    "                      pbar.update(len(ch))\n",
    "\n",
    "# Setting up paths:\n",
    "folder_for_glove = os.getcwd() + os.sep + 'glove' + os.sep\n",
    "glove_file = datapath(folder_for_glove + 'glove.6B.100d.txt')\n",
    "url_for_zip = \"https://nlp.stanford.edu/data/glove.6B.zip\"\n",
    "zip_file = datapath(folder_for_glove + url_for_zip.split('/')[-1])\n",
    "\n",
    "# Check whether glove file exists in the envorironment, if not, download it:\n",
    "does_glove_file_exist = os.path.exists(glove_file)\n",
    "if does_glove_file_exist == False:\n",
    "    # This means we'll need to download the zipped files and unzip them to the necessary folder:\n",
    "    # Check folder exists:\n",
    "    does_glove_folder_exist = os.path.exists(folder_for_glove)\n",
    "    if does_glove_folder_exist == False:\n",
    "        # Create a folder for glove:\n",
    "        os.mkdir(folder_for_glove)\n",
    "                 \n",
    "    # Download zipped files:\n",
    "    print(\"Downloading the zip file from:   \" + url_for_zip)\n",
    "    zip_file = download_file(url_for_zip, zip_file)\n",
    "\n",
    "    # Extract files:\n",
    "    with ZipFile(zip_file, 'r') as zipObj:\n",
    "        print(\"Extracting glove files from the zipped file.\")\n",
    "        zipObj.extractall(folder_for_glove)\n",
    "        print(\"Done extracting.\")\n",
    "else:\n",
    "    print(\"Successfully located necessary glove file.\")\n",
    "        "
   ]
  },
  {
   "cell_type": "markdown",
   "metadata": {},
   "source": [
    "**Load necessary word embeddings**"
   ]
  },
  {
   "cell_type": "code",
   "execution_count": 4,
   "metadata": {
    "colab": {},
    "colab_type": "code",
    "id": "mq9Bxe1PGdwE",
    "outputId": "ed18c779-2b24-4cd5-d67d-bde66dd674d7"
   },
   "outputs": [
    {
     "data": {
      "text/plain": [
       "(400000, 100)"
      ]
     },
     "execution_count": 4,
     "metadata": {},
     "output_type": "execute_result"
    }
   ],
   "source": [
    "word2vec_glove_file = get_tmpfile(\"glove.6B.100d.word2vec.txt\")\n",
    "glove2word2vec(glove_file, word2vec_glove_file)"
   ]
  },
  {
   "cell_type": "markdown",
   "metadata": {},
   "source": [
    "## Playing with Word Embedding Functionalities"
   ]
  },
  {
   "cell_type": "markdown",
   "metadata": {},
   "source": [
    "**Instantiated word vectors**"
   ]
  },
  {
   "cell_type": "code",
   "execution_count": 5,
   "metadata": {
    "colab": {},
    "colab_type": "code",
    "id": "YuaV1xAHGdwK"
   },
   "outputs": [],
   "source": [
    "model = KeyedVectors.load_word2vec_format(word2vec_glove_file)"
   ]
  },
  {
   "cell_type": "code",
   "execution_count": 6,
   "metadata": {
    "colab": {},
    "colab_type": "code",
    "id": "C2LFdbl7Gdwn"
   },
   "outputs": [],
   "source": [
    "def analogy(similar=None, dissimilar=None, num_of_outputs=2):\n",
    "    result = model.most_similar(positive=similar, negative=dissimilar)\n",
    "    analogies = list(zip(*result))[0]\n",
    "    print('\\n'.join(analogies[0:num_of_outputs]))"
   ]
  },
  {
   "cell_type": "code",
   "execution_count": 7,
   "metadata": {
    "colab": {},
    "colab_type": "code",
    "id": "c_OGbszbGdwP",
    "outputId": "77ccbee5-d67a-4496-91f6-06c7f1a67973"
   },
   "outputs": [
    {
     "name": "stdout",
     "output_type": "stream",
     "text": [
      "compiler\n",
      "fortran\n",
      "compilers\n",
      "javascript\n",
      "objective-c\n"
     ]
    }
   ],
   "source": [
    "analogy(['c++'], num_of_outputs=5)"
   ]
  },
  {
   "cell_type": "code",
   "execution_count": 8,
   "metadata": {
    "colab": {},
    "colab_type": "code",
    "id": "crCYREN9GdwV",
    "outputId": "27e3035e-b300-481b-baec-978ed91d3efb"
   },
   "outputs": [
    {
     "name": "stdout",
     "output_type": "stream",
     "text": [
      "friendster\n",
      "myspace\n",
      "myspace.com\n",
      "facebook\n",
      "pinterest\n"
     ]
    }
   ],
   "source": [
    "analogy('linkedin', num_of_outputs=5)"
   ]
  },
  {
   "cell_type": "code",
   "execution_count": 9,
   "metadata": {
    "colab": {},
    "colab_type": "code",
    "id": "gEdHhGEfGdwa",
    "outputId": "18034680-3dce-4bef-cd19-00d0fee5e778"
   },
   "outputs": [
    {
     "name": "stdout",
     "output_type": "stream",
     "text": [
      "brett.clanton@chron.com\n",
      "ryryryryryry\n"
     ]
    }
   ],
   "source": [
    "analogy(dissimilar=['no'])"
   ]
  },
  {
   "cell_type": "code",
   "execution_count": 10,
   "metadata": {
    "colab": {},
    "colab_type": "code",
    "id": "bNkhypvBGdwr",
    "outputId": "f3fe4ab3-8ddb-48d7-c387-af384f124e30"
   },
   "outputs": [
    {
     "name": "stdout",
     "output_type": "stream",
     "text": [
      "queen\n"
     ]
    }
   ],
   "source": [
    "analogy(similar=['woman', 'king'], dissimilar=['man'], num_of_outputs=1)"
   ]
  },
  {
   "cell_type": "code",
   "execution_count": 11,
   "metadata": {
    "colab": {},
    "colab_type": "code",
    "id": "5kb8ueECGdwz",
    "outputId": "fed4fff3-292c-4346-9fde-34cdb0b6a4c3"
   },
   "outputs": [
    {
     "name": "stdout",
     "output_type": "stream",
     "text": [
      "pear\n",
      "mango\n"
     ]
    }
   ],
   "source": [
    "analogy(similar=['apple', 'fruit'], dissimilar=['red'])"
   ]
  },
  {
   "cell_type": "code",
   "execution_count": 12,
   "metadata": {
    "colab": {},
    "colab_type": "code",
    "id": "iJVbPaOPGdw6",
    "outputId": "1683b750-cd3b-4ef2-d522-97178af1b483"
   },
   "outputs": [
    {
     "name": "stdout",
     "output_type": "stream",
     "text": [
      "longest\n",
      "ever\n"
     ]
    }
   ],
   "source": [
    "analogy(similar=['long', 'highest'], dissimilar=['high'])"
   ]
  },
  {
   "cell_type": "code",
   "execution_count": 13,
   "metadata": {
    "colab": {},
    "colab_type": "code",
    "id": "KwCCruLFGdwv",
    "outputId": "1bb4809b-5bc0-4022-9d0c-d9b1b72fad9f"
   },
   "outputs": [
    {
     "name": "stdout",
     "output_type": "stream",
     "text": [
      "pinterest\n",
      "flipboard\n"
     ]
    }
   ],
   "source": [
    "analogy(similar=['linkedin'], dissimilar=['work'])"
   ]
  },
  {
   "cell_type": "code",
   "execution_count": 14,
   "metadata": {
    "colab": {},
    "colab_type": "code",
    "id": "gccYZfY5Gdw3",
    "outputId": "9456f521-dd15-4abd-92cb-3f0efd825c1e"
   },
   "outputs": [
    {
     "name": "stdout",
     "output_type": "stream",
     "text": [
      "megadeth\n"
     ]
    }
   ],
   "source": [
    "analogy(similar=['metallica'], dissimilar=['loud'], num_of_outputs=1)"
   ]
  },
  {
   "cell_type": "code",
   "execution_count": 15,
   "metadata": {
    "colab": {},
    "colab_type": "code",
    "id": "teckSuRTGdw9",
    "outputId": "7200d97c-924e-4e9a-bcdb-6e80ba216480"
   },
   "outputs": [
    {
     "name": "stdout",
     "output_type": "stream",
     "text": [
      "terrible\n",
      "awful\n"
     ]
    }
   ],
   "source": [
    "analogy(similar=['fantastic', 'bad'], dissimilar=['good'])"
   ]
  },
  {
   "cell_type": "code",
   "execution_count": 16,
   "metadata": {
    "colab": {},
    "colab_type": "code",
    "id": "Cjz6B__zGdw_",
    "outputId": "3c805057-85ee-4b1b-a42a-81a662b76d94"
   },
   "outputs": [
    {
     "name": "stdout",
     "output_type": "stream",
     "text": [
      "essay\n",
      "story\n"
     ]
    }
   ],
   "source": [
    "analogy(similar=['book', 'pool'], dissimilar=['water'])"
   ]
  },
  {
   "cell_type": "code",
   "execution_count": 17,
   "metadata": {
    "colab": {},
    "colab_type": "code",
    "id": "7d5WMVnUGdxE",
    "outputId": "08aead7b-36f7-4df8-f926-17a8934bab32"
   },
   "outputs": [
    {
     "name": "stdout",
     "output_type": "stream",
     "text": [
      "user\n",
      "viewer\n"
     ]
    }
   ],
   "source": [
    "analogy(similar=['screen', 'person'], dissimilar=['head'])"
   ]
  },
  {
   "cell_type": "code",
   "execution_count": 18,
   "metadata": {
    "colab": {},
    "colab_type": "code",
    "id": "c2rHeYpoGdxL",
    "outputId": "5c4e66c1-df41-42af-8a31-502e3c46a85c"
   },
   "outputs": [
    {
     "name": "stdout",
     "output_type": "stream",
     "text": [
      "starting\n",
      "addition\n"
     ]
    }
   ],
   "source": [
    "analogy(similar=['exciting', 'regular'], dissimilar=['boring'])"
   ]
  },
  {
   "cell_type": "code",
   "execution_count": 19,
   "metadata": {
    "colab": {},
    "colab_type": "code",
    "id": "MWccxb8GGdxN",
    "outputId": "d2412d6c-6b6e-46b0-fa9e-fd394f73b598"
   },
   "outputs": [
    {
     "name": "stdout",
     "output_type": "stream",
     "text": [
      "morning\n",
      "afternoon\n"
     ]
    }
   ],
   "source": [
    "analogy(similar=['light', 'night'], dissimilar=['dark'])"
   ]
  },
  {
   "cell_type": "code",
   "execution_count": 24,
   "metadata": {
    "colab": {},
    "colab_type": "code",
    "id": "OOIce_S2GdxP",
    "outputId": "53a36c79-5475-40d6-fadc-06dfc564b3b9"
   },
   "outputs": [
    {
     "name": "stdout",
     "output_type": "stream",
     "text": [
      "yoko\n"
     ]
    }
   ],
   "source": [
    "print(model.doesnt_match(\"ringo john paul yoko george \".split()))"
   ]
  },
  {
   "cell_type": "markdown",
   "metadata": {},
   "source": [
    "Apply Principal Component Analysis via Singular Value Decomposition.  \n",
    "It takes the vectors that represent the chosen words and generates a new set of vectors that spans the same vector space.  \n",
    "Those vectors are **orthogonal unit vectors**, thus are more efficient in capturing the variability of the original set.  \n",
    "We sort those vectors from most valuable to least valuable from the aspect of capturing the set's variability.  \n",
    "We measure the set's variability by its variance.  \n",
    "We measure a vector's capture of the variance by the magnitude of its corresponding eigenvalue.  \n",
    "We thus take only the top 2 vectors so to portray the projection of the words' vector space in a 2 dimensional plot.  \n",
    "\n",
    "*Credit to Stanford U. NLP course for this function*."
   ]
  },
  {
   "cell_type": "code",
   "execution_count": 33,
   "metadata": {
    "colab": {},
    "colab_type": "code",
    "id": "KeonhRFOGdxV"
   },
   "outputs": [],
   "source": [
    "def display_pca_scatterplot(model, words=None, sample=0):\n",
    "    if words == None:\n",
    "        if sample > 0:\n",
    "            words = np.random.choice(list(model.vocab.keys()), sample)\n",
    "        else:\n",
    "            words = [ word for word in model.vocab ]\n",
    "        \n",
    "    word_vectors = np.array([model[w] for w in words])\n",
    "\n",
    "    twodim = PCA().fit_transform(word_vectors)[:,:2]\n",
    "    \n",
    "    plt.figure(figsize=(15,15))\n",
    "    plt.scatter(twodim[:,0], twodim[:,1], edgecolors='k', c='r')\n",
    "    for word, (x,y) in zip(words, twodim):\n",
    "        plt.text(x+0.05, y+0.05, word)"
   ]
  },
  {
   "cell_type": "code",
   "execution_count": 34,
   "metadata": {
    "colab": {},
    "colab_type": "code",
    "id": "zZq-LbB1Gdxa",
    "outputId": "e6c3ab07-9c58-4bc7-abbf-6394ae099b90"
   },
   "outputs": [
    {
     "data": {
      "image/png": "[encoded data removed]",
      "text/plain": [
       "<Figure size 1080x1080 with 1 Axes>"
      ]
     },
     "metadata": {},
     "output_type": "display_data"
    }
   ],
   "source": [
    "display_pca_scatterplot(model, \n",
    "                        ['metallica', 'megadeth', 'pantera', 'slayer',\n",
    "                         'dog', 'horse', 'cat', 'monkey', 'parrot', 'koala', 'lizard',\n",
    "                         'frog', 'toad', 'monkey', 'ape', 'kangaroo', 'wombat', 'wolf',\n",
    "                         'mercury', 'venus', 'earth', 'mars', 'jupiter', \n",
    "                         'saturn', 'uranus', 'neptune', 'pluto', 'sun', 'moon',\n",
    "                        'cancer', 'pneumonia', 'diabetes', 'stroke', 'aids',\n",
    "                        'leukemia', 'myeloma', 'melanoma', 'tumor', 'metastasis', 'malignant',\n",
    "                        'archbishop', 'bishop', 'cardinal', 'monsignor', 'priest', 'archdiocese'])"
   ]
  }
 ],
 "metadata": {
  "colab": {
   "name": "Gensim word vector visualization.ipynb",
   "provenance": []
  },
  "kernelspec": {
   "display_name": "Python 3",
   "language": "python",
   "name": "python3"
  },
  "language_info": {
   "codemirror_mode": {
    "name": "ipython",
    "version": 3
   },
   "file_extension": ".py",
   "mimetype": "text/x-python",
   "name": "python",
   "nbconvert_exporter": "python",
   "pygments_lexer": "ipython3",
   "version": "3.7.7"
  }
 },
 "nbformat": 4,
 "nbformat_minor": 1
}
